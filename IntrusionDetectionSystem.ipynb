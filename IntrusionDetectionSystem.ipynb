{
 "cells": [
  {
   "cell_type": "code",
   "execution_count": 66,
   "metadata": {
    "scrolled": false
   },
   "outputs": [
    {
     "data": {
      "text/plain": [
       "array([['0.000000', 'other', '0', ..., '8090', '00:00:01', 'tcp'],\n",
       "       ['0.000000', 'other', '0', ..., '80', '00:00:01', 'tcp'],\n",
       "       ['0.000250', 'other', '0', ..., '23', '00:00:01', 'tcp'],\n",
       "       ...,\n",
       "       ['0.000000', 'other', '0', ..., '80', '23:59:57', 'tcp'],\n",
       "       ['0.000000', 'other', '0', ..., '22', '23:59:58', 'tcp'],\n",
       "       ['0.000000', 'other', '0', ..., '22', '23:59:58', 'tcp']],\n",
       "      dtype='<U50')"
      ]
     },
     "execution_count": 66,
     "metadata": {},
     "output_type": "execute_result"
    }
   ],
   "source": [
    "import numpy as np\n",
    "def readRecords(files):\n",
    "    if(isinstance(files, str)):\n",
    "        files = [files]\n",
    "    records = []\n",
    "    for file in files:\n",
    "        file = open(file, 'r')\n",
    "        for line in file:\n",
    "            records.append(line.strip('\\n').split('\\t'))\n",
    "        file.close()\n",
    "    return np.array(records)\n",
    "readRecords('20151108.txt')"
   ]
  }
 ],
 "metadata": {
  "kernelspec": {
   "display_name": "Python 3",
   "language": "python",
   "name": "python3"
  },
  "language_info": {
   "codemirror_mode": {
    "name": "ipython",
    "version": 3
   },
   "file_extension": ".py",
   "mimetype": "text/x-python",
   "name": "python",
   "nbconvert_exporter": "python",
   "pygments_lexer": "ipython3",
   "version": "3.6.5"
  }
 },
 "nbformat": 4,
 "nbformat_minor": 2
}
