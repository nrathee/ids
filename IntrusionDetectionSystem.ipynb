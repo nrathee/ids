{
 "cells": [
  {
   "cell_type": "code",
   "execution_count": 203,
   "metadata": {
    "scrolled": false
   },
   "outputs": [],
   "source": [
    "import numpy as np\n",
    "def readRecords(files):\n",
    "    if(isinstance(files, str)):\n",
    "        files = [files]\n",
    "    records = []\n",
    "    for file in files:\n",
    "        file = open('data/'+file, 'r')\n",
    "        for line in file:\n",
    "            records.append(line.strip('\\n').split('\\t'))\n",
    "        file.close()\n",
    "    return np.array(records)\n",
    "data = readRecords(['20151108.txt', '20151109.txt', '20151107.txt'])"
   ]
  },
  {
   "cell_type": "code",
   "execution_count": 202,
   "metadata": {},
   "outputs": [
    {
     "data": {
      "text/plain": [
       "(799247, 24)"
      ]
     },
     "execution_count": 202,
     "metadata": {},
     "output_type": "execute_result"
    }
   ],
   "source": []
  },
  {
   "cell_type": "markdown",
   "metadata": {},
   "source": [
    "## Clustering"
   ]
  },
  {
   "cell_type": "code",
   "execution_count": 171,
   "metadata": {},
   "outputs": [],
   "source": [
    "import random\n",
    "\n",
    "def sampleData(data, quantity):\n",
    "    anamolous_data = [i for i in range(len(data)) if(data[i][14] != '0') ]\n",
    "    normal_data = [i for i in range(len(data)) if(data[i][14] == '0') ]\n",
    "    indices = random.sample(anamolous_data, quantity//3)\n",
    "    indices += random.sample(normal_data, quantity//3 * 2)\n",
    "#     length = len(data)//groups\n",
    "#     sub_quantity = quantity//groups\n",
    "#     indices = []\n",
    "#     for i in range(groups):\n",
    "#         indices += random.sample(range(i*length, (i+1)*length), sub_quantity)\n",
    "    return np.array(data[indices])\n",
    "\n",
    "sample_data = sampleData(data, 1500)\n",
    "\n",
    "    \n"
   ]
  },
  {
   "cell_type": "code",
   "execution_count": 204,
   "metadata": {},
   "outputs": [
    {
     "name": "stdout",
     "output_type": "stream",
     "text": [
      "677233 122014\n",
      "35714 52\n",
      "5.27351738618762 0.042618060222597405\n",
      "[0.02842843 0.00044776]\n",
      "[0.20309874 0.96187241]\n"
     ]
    }
   ],
   "source": [
    "from sklearn.cluster import KMeans\n",
    "def featureSelection(data):\n",
    "    #Todo: implement real feature selection to return list of selected columnIndex\n",
    "    return [6, 11]\n",
    "\n",
    "columns = featureSelection(sample_data)\n",
    "selected_data = np.array([row[columns].astype(np.float) for row in data])\n",
    "\n",
    "kmeans = KMeans(n_clusters=2).fit(selected_data)\n",
    "cluster1 = [data[i] for i in range(len(data)) if(kmeans.labels_[i] == 0)]\n",
    "cluster2 = [data[i] for i in range(len(data)) if(kmeans.labels_[i] == 1)]\n",
    "print(len(cluster1), len(cluster2))\n",
    "anomalies1 = len([ row for row in cluster1 if(row[14]!='0') ])\n",
    "anomalies2 = len([ row for row in cluster2 if(row[14]!='0') ])\n",
    "print(anomalies1, anomalies2)\n",
    "print(anomalies1*100/len(cluster1), anomalies2*100/len(cluster2))\n",
    "a,b = kmeans.cluster_centers_\n",
    "print(a)\n",
    "print(b)\n",
    "# labels = [ row[17] for row in data[anomaly_indices], row[17] for row in data[normal_indices] ]\n",
    "# [(X[i], labels[i]) for i in range(1000)]"
   ]
  }
 ],
 "metadata": {
  "kernelspec": {
   "display_name": "Python 3",
   "language": "python",
   "name": "python3"
  },
  "language_info": {
   "codemirror_mode": {
    "name": "ipython",
    "version": 3
   },
   "file_extension": ".py",
   "mimetype": "text/x-python",
   "name": "python",
   "nbconvert_exporter": "python",
   "pygments_lexer": "ipython3",
   "version": "3.6.5"
  }
 },
 "nbformat": 4,
 "nbformat_minor": 2
}
